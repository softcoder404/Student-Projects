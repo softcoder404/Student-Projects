{
 "cells": [
  {
   "cell_type": "markdown",
   "metadata": {},
   "source": [
    "## Loading Data from CSV file\n",
    "\n",
    "- The Pandas library in python provides excellent built-in support for time series data\n",
    "- Pandas represents time series datasets as a Series.\n",
    "- A Series is a one-dimensional array with a time label for each row\n",
    "- A Dataframe is a collection of series"
   ]
  },
  {
   "cell_type": "code",
   "execution_count": 4,
   "metadata": {},
   "outputs": [],
   "source": [
    "import pandas as pd"
   ]
  },
  {
   "cell_type": "code",
   "execution_count": 13,
   "metadata": {},
   "outputs": [],
   "source": [
    "# Loading csv files from our project folder\n",
    "\n",
    "dataframe = pd.read_csv('/Users/mac/Documents/dataframe1.csv', header= 0)"
   ]
  },
  {
   "cell_type": "markdown",
   "metadata": {},
   "source": [
    "#### First five records"
   ]
  },
  {
   "cell_type": "code",
   "execution_count": 14,
   "metadata": {
    "scrolled": true
   },
   "outputs": [
    {
     "data": {
      "text/html": [
       "<div>\n",
       "<style scoped>\n",
       "    .dataframe tbody tr th:only-of-type {\n",
       "        vertical-align: middle;\n",
       "    }\n",
       "\n",
       "    .dataframe tbody tr th {\n",
       "        vertical-align: top;\n",
       "    }\n",
       "\n",
       "    .dataframe thead th {\n",
       "        text-align: right;\n",
       "    }\n",
       "</style>\n",
       "<table border=\"1\" class=\"dataframe\">\n",
       "  <thead>\n",
       "    <tr style=\"text-align: right;\">\n",
       "      <th></th>\n",
       "      <th>DATE</th>\n",
       "      <th>H1</th>\n",
       "    </tr>\n",
       "  </thead>\n",
       "  <tbody>\n",
       "    <tr>\n",
       "      <th>0</th>\n",
       "      <td>11/1/19</td>\n",
       "      <td>16.0</td>\n",
       "    </tr>\n",
       "    <tr>\n",
       "      <th>1</th>\n",
       "      <td>11/2/19</td>\n",
       "      <td>21.0</td>\n",
       "    </tr>\n",
       "    <tr>\n",
       "      <th>2</th>\n",
       "      <td>11/3/19</td>\n",
       "      <td>17.0</td>\n",
       "    </tr>\n",
       "    <tr>\n",
       "      <th>3</th>\n",
       "      <td>11/4/19</td>\n",
       "      <td>12.0</td>\n",
       "    </tr>\n",
       "    <tr>\n",
       "      <th>4</th>\n",
       "      <td>11/5/19</td>\n",
       "      <td>26.0</td>\n",
       "    </tr>\n",
       "  </tbody>\n",
       "</table>\n",
       "</div>"
      ],
      "text/plain": [
       "      DATE    H1\n",
       "0  11/1/19  16.0\n",
       "1  11/2/19  21.0\n",
       "2  11/3/19  17.0\n",
       "3  11/4/19  12.0\n",
       "4  11/5/19  26.0"
      ]
     },
     "execution_count": 14,
     "metadata": {},
     "output_type": "execute_result"
    }
   ],
   "source": [
    "dataframe.head()\n"
   ]
  },
  {
   "cell_type": "code",
   "execution_count": 15,
   "metadata": {},
   "outputs": [
    {
     "data": {
      "text/plain": [
       "<matplotlib.axes._subplots.AxesSubplot at 0x7fe1b52ef150>"
      ]
     },
     "execution_count": 15,
     "metadata": {},
     "output_type": "execute_result"
    },
    {
     "data": {
      "image/png": "[encoded data removed]",
      "text/plain": [
       "<Figure size 432x288 with 1 Axes>"
      ]
     },
     "metadata": {
      "needs_background": "light"
     },
     "output_type": "display_data"
    }
   ],
   "source": [
    "dataframe.plot()"
   ]
  },
  {
   "cell_type": "code",
   "execution_count": 17,
   "metadata": {},
   "outputs": [
    {
     "data": {
      "text/html": [
       "<div>\n",
       "<style scoped>\n",
       "    .dataframe tbody tr th:only-of-type {\n",
       "        vertical-align: middle;\n",
       "    }\n",
       "\n",
       "    .dataframe tbody tr th {\n",
       "        vertical-align: top;\n",
       "    }\n",
       "\n",
       "    .dataframe thead th {\n",
       "        text-align: right;\n",
       "    }\n",
       "</style>\n",
       "<table border=\"1\" class=\"dataframe\">\n",
       "  <thead>\n",
       "    <tr style=\"text-align: right;\">\n",
       "      <th></th>\n",
       "      <th>H1</th>\n",
       "    </tr>\n",
       "  </thead>\n",
       "  <tbody>\n",
       "    <tr>\n",
       "      <th>count</th>\n",
       "      <td>121.000000</td>\n",
       "    </tr>\n",
       "    <tr>\n",
       "      <th>mean</th>\n",
       "      <td>23.019835</td>\n",
       "    </tr>\n",
       "    <tr>\n",
       "      <th>std</th>\n",
       "      <td>7.118481</td>\n",
       "    </tr>\n",
       "    <tr>\n",
       "      <th>min</th>\n",
       "      <td>0.000000</td>\n",
       "    </tr>\n",
       "    <tr>\n",
       "      <th>25%</th>\n",
       "      <td>19.000000</td>\n",
       "    </tr>\n",
       "    <tr>\n",
       "      <th>50%</th>\n",
       "      <td>24.000000</td>\n",
       "    </tr>\n",
       "    <tr>\n",
       "      <th>75%</th>\n",
       "      <td>27.000000</td>\n",
       "    </tr>\n",
       "    <tr>\n",
       "      <th>max</th>\n",
       "      <td>36.000000</td>\n",
       "    </tr>\n",
       "  </tbody>\n",
       "</table>\n",
       "</div>"
      ],
      "text/plain": [
       "               H1\n",
       "count  121.000000\n",
       "mean    23.019835\n",
       "std      7.118481\n",
       "min      0.000000\n",
       "25%     19.000000\n",
       "50%     24.000000\n",
       "75%     27.000000\n",
       "max     36.000000"
      ]
     },
     "execution_count": 17,
     "metadata": {},
     "output_type": "execute_result"
    }
   ],
   "source": [
    "dataframe.describe()"
   ]
  },
  {
   "cell_type": "code",
   "execution_count": 16,
   "metadata": {},
   "outputs": [
    {
     "data": {
      "text/plain": [
       "(121, 2)"
      ]
     },
     "execution_count": 16,
     "metadata": {},
     "output_type": "execute_result"
    }
   ],
   "source": [
    "dataframe.shape"
   ]
  },
  {
   "cell_type": "markdown",
   "metadata": {},
   "source": [
    "### Data Type"
   ]
  },
  {
   "cell_type": "code",
   "execution_count": 6,
   "metadata": {},
   "outputs": [
    {
     "data": {
      "text/plain": [
       "dtype('O')"
      ]
     },
     "execution_count": 6,
     "metadata": {},
     "output_type": "execute_result"
    }
   ],
   "source": [
    "#checking the data type of date column\n",
    "#dtype('O') is an object or string\n",
    "dataframe['Month'].dtype"
   ]
  },
  {
   "cell_type": "markdown",
   "metadata": {},
   "source": [
    "### Loading Data with parse_dates\n",
    "\n",
    "- using parse_dates=[col_index] e.g parse_dates=[0] for first column"
   ]
  },
  {
   "cell_type": "code",
   "execution_count": 34,
   "metadata": {},
   "outputs": [],
   "source": [
    "df = pd.read_csv('/Users/mac/Documents/hourlydataset.csv',header=0, parse_dates=[1])"
   ]
  },
  {
   "cell_type": "markdown",
   "metadata": {},
   "source": [
    "### First five records"
   ]
  },
  {
   "cell_type": "code",
   "execution_count": 35,
   "metadata": {},
   "outputs": [
    {
     "data": {
      "text/html": [
       "<div>\n",
       "<style scoped>\n",
       "    .dataframe tbody tr th:only-of-type {\n",
       "        vertical-align: middle;\n",
       "    }\n",
       "\n",
       "    .dataframe tbody tr th {\n",
       "        vertical-align: top;\n",
       "    }\n",
       "\n",
       "    .dataframe thead th {\n",
       "        text-align: right;\n",
       "    }\n",
       "</style>\n",
       "<table border=\"1\" class=\"dataframe\">\n",
       "  <thead>\n",
       "    <tr style=\"text-align: right;\">\n",
       "      <th></th>\n",
       "      <th>Month</th>\n",
       "      <th>h100</th>\n",
       "    </tr>\n",
       "  </thead>\n",
       "  <tbody>\n",
       "    <tr>\n",
       "      <th>0</th>\n",
       "      <td>1-Jan</td>\n",
       "      <td>9.9</td>\n",
       "    </tr>\n",
       "    <tr>\n",
       "      <th>1</th>\n",
       "      <td>2-Jan</td>\n",
       "      <td>26</td>\n",
       "    </tr>\n",
       "    <tr>\n",
       "      <th>2</th>\n",
       "      <td>3-Jan</td>\n",
       "      <td>15</td>\n",
       "    </tr>\n",
       "    <tr>\n",
       "      <th>3</th>\n",
       "      <td>4-Jan</td>\n",
       "      <td>23</td>\n",
       "    </tr>\n",
       "    <tr>\n",
       "      <th>4</th>\n",
       "      <td>5-Jan</td>\n",
       "      <td>13</td>\n",
       "    </tr>\n",
       "    <tr>\n",
       "      <th>5</th>\n",
       "      <td>6-Jan</td>\n",
       "      <td>22</td>\n",
       "    </tr>\n",
       "    <tr>\n",
       "      <th>6</th>\n",
       "      <td>7-Jan</td>\n",
       "      <td>19</td>\n",
       "    </tr>\n",
       "    <tr>\n",
       "      <th>7</th>\n",
       "      <td>8-Jan</td>\n",
       "      <td>29</td>\n",
       "    </tr>\n",
       "    <tr>\n",
       "      <th>8</th>\n",
       "      <td>9-Jan</td>\n",
       "      <td>29</td>\n",
       "    </tr>\n",
       "    <tr>\n",
       "      <th>9</th>\n",
       "      <td>10-Jan</td>\n",
       "      <td>5.3</td>\n",
       "    </tr>\n",
       "  </tbody>\n",
       "</table>\n",
       "</div>"
      ],
      "text/plain": [
       "    Month h100\n",
       "0   1-Jan  9.9\n",
       "1   2-Jan   26\n",
       "2   3-Jan   15\n",
       "3   4-Jan   23\n",
       "4   5-Jan   13\n",
       "5   6-Jan   22\n",
       "6   7-Jan   19\n",
       "7   8-Jan   29\n",
       "8   9-Jan   29\n",
       "9  10-Jan  5.3"
      ]
     },
     "execution_count": 35,
     "metadata": {},
     "output_type": "execute_result"
    }
   ],
   "source": [
    "df.head(10)"
   ]
  },
  {
   "cell_type": "markdown",
   "metadata": {},
   "source": [
    "### Data Type"
   ]
  },
  {
   "cell_type": "code",
   "execution_count": 36,
   "metadata": {},
   "outputs": [
    {
     "data": {
      "text/plain": [
       "dtype('O')"
      ]
     },
     "execution_count": 36,
     "metadata": {},
     "output_type": "execute_result"
    }
   ],
   "source": [
    "df['Month'].dtype"
   ]
  },
  {
   "cell_type": "markdown",
   "metadata": {},
   "source": [
    "### Loading Data as Series"
   ]
  },
  {
   "cell_type": "code",
   "execution_count": 9,
   "metadata": {},
   "outputs": [],
   "source": [
    "ds = pd.read_csv('/Users/mac/Documents/dataframe1.csv',header=0,parse_dates=[0],index_col=0,squeeze=True)"
   ]
  },
  {
   "cell_type": "code",
   "execution_count": 10,
   "metadata": {},
   "outputs": [
    {
     "data": {
      "text/plain": [
       "DATE\n",
       "2019-11-01    16.0\n",
       "2019-11-02    21.0\n",
       "2019-11-03    17.0\n",
       "2019-11-04    12.0\n",
       "2019-11-05    26.0\n",
       "2019-11-06    24.0\n",
       "2019-11-07    25.0\n",
       "2019-11-08    25.0\n",
       "2019-11-09     0.0\n",
       "2019-11-10    26.0\n",
       "Name: H1, dtype: float64"
      ]
     },
     "execution_count": 10,
     "metadata": {},
     "output_type": "execute_result"
    }
   ],
   "source": [
    "ds.head(10)"
   ]
  },
  {
   "cell_type": "code",
   "execution_count": 11,
   "metadata": {},
   "outputs": [
    {
     "name": "stdout",
     "output_type": "stream",
     "text": [
      "Help on function to_datetime in module pandas.core.tools.datetimes:\n",
      "\n",
      "to_datetime(arg, errors='raise', dayfirst=False, yearfirst=False, utc=None, format=None, exact=True, unit=None, infer_datetime_format=False, origin='unix', cache=True)\n",
      "    Convert argument to datetime.\n",
      "    \n",
      "    Parameters\n",
      "    ----------\n",
      "    arg : int, float, str, datetime, list, tuple, 1-d array, Series DataFrame/dict-like\n",
      "        The object to convert to a datetime.\n",
      "    errors : {'ignore', 'raise', 'coerce'}, default 'raise'\n",
      "        - If 'raise', then invalid parsing will raise an exception.\n",
      "        - If 'coerce', then invalid parsing will be set as NaT.\n",
      "        - If 'ignore', then invalid parsing will return the input.\n",
      "    dayfirst : bool, default False\n",
      "        Specify a date parse order if `arg` is str or its list-likes.\n",
      "        If True, parses dates with the day first, eg 10/11/12 is parsed as\n",
      "        2012-11-10.\n",
      "        Warning: dayfirst=True is not strict, but will prefer to parse\n",
      "        with day first (this is a known bug, based on dateutil behavior).\n",
      "    yearfirst : bool, default False\n",
      "        Specify a date parse order if `arg` is str or its list-likes.\n",
      "    \n",
      "        - If True parses dates with the year first, eg 10/11/12 is parsed as\n",
      "          2010-11-12.\n",
      "        - If both dayfirst and yearfirst are True, yearfirst is preceded (same\n",
      "          as dateutil).\n",
      "    \n",
      "        Warning: yearfirst=True is not strict, but will prefer to parse\n",
      "        with year first (this is a known bug, based on dateutil behavior).\n",
      "    utc : bool, default None\n",
      "        Return UTC DatetimeIndex if True (converting any tz-aware\n",
      "        datetime.datetime objects as well).\n",
      "    format : str, default None\n",
      "        The strftime to parse time, eg \"%d/%m/%Y\", note that \"%f\" will parse\n",
      "        all the way up to nanoseconds.\n",
      "        See strftime documentation for more information on choices:\n",
      "        https://docs.python.org/3/library/datetime.html#strftime-and-strptime-behavior.\n",
      "    exact : bool, True by default\n",
      "        Behaves as:\n",
      "        - If True, require an exact format match.\n",
      "        - If False, allow the format to match anywhere in the target string.\n",
      "    \n",
      "    unit : str, default 'ns'\n",
      "        The unit of the arg (D,s,ms,us,ns) denote the unit, which is an\n",
      "        integer or float number. This will be based off the origin.\n",
      "        Example, with unit='ms' and origin='unix' (the default), this\n",
      "        would calculate the number of milliseconds to the unix epoch start.\n",
      "    infer_datetime_format : bool, default False\n",
      "        If True and no `format` is given, attempt to infer the format of the\n",
      "        datetime strings, and if it can be inferred, switch to a faster\n",
      "        method of parsing them. In some cases this can increase the parsing\n",
      "        speed by ~5-10x.\n",
      "    origin : scalar, default 'unix'\n",
      "        Define the reference date. The numeric values would be parsed as number\n",
      "        of units (defined by `unit`) since this reference date.\n",
      "    \n",
      "        - If 'unix' (or POSIX) time; origin is set to 1970-01-01.\n",
      "        - If 'julian', unit must be 'D', and origin is set to beginning of\n",
      "          Julian Calendar. Julian day number 0 is assigned to the day starting\n",
      "          at noon on January 1, 4713 BC.\n",
      "        - If Timestamp convertible, origin is set to Timestamp identified by\n",
      "          origin.\n",
      "    cache : bool, default True\n",
      "        If True, use a cache of unique, converted dates to apply the datetime\n",
      "        conversion. May produce significant speed-up when parsing duplicate\n",
      "        date strings, especially ones with timezone offsets. The cache is only\n",
      "        used when there are at least 50 values. The presence of out-of-bounds\n",
      "        values will render the cache unusable and may slow down parsing.\n",
      "    \n",
      "        .. versionadded:: 0.23.0\n",
      "    \n",
      "        .. versionchanged:: 0.25.0\n",
      "            - changed default value from False to True.\n",
      "    \n",
      "    Returns\n",
      "    -------\n",
      "    datetime\n",
      "        If parsing succeeded.\n",
      "        Return type depends on input:\n",
      "    \n",
      "        - list-like: DatetimeIndex\n",
      "        - Series: Series of datetime64 dtype\n",
      "        - scalar: Timestamp\n",
      "    \n",
      "        In case when it is not possible to return designated types (e.g. when\n",
      "        any element of input is before Timestamp.min or after Timestamp.max)\n",
      "        return will have datetime.datetime type (or corresponding\n",
      "        array/Series).\n",
      "    \n",
      "    See Also\n",
      "    --------\n",
      "    DataFrame.astype : Cast argument to a specified dtype.\n",
      "    to_timedelta : Convert argument to timedelta.\n",
      "    convert_dtypes : Convert dtypes.\n",
      "    \n",
      "    Examples\n",
      "    --------\n",
      "    Assembling a datetime from multiple columns of a DataFrame. The keys can be\n",
      "    common abbreviations like ['year', 'month', 'day', 'minute', 'second',\n",
      "    'ms', 'us', 'ns']) or plurals of the same\n",
      "    \n",
      "    >>> df = pd.DataFrame({'year': [2015, 2016],\n",
      "    ...                    'month': [2, 3],\n",
      "    ...                    'day': [4, 5]})\n",
      "    >>> pd.to_datetime(df)\n",
      "    0   2015-02-04\n",
      "    1   2016-03-05\n",
      "    dtype: datetime64[ns]\n",
      "    \n",
      "    If a date does not meet the `timestamp limitations\n",
      "    <https://pandas.pydata.org/pandas-docs/stable/user_guide/timeseries.html\n",
      "    #timeseries-timestamp-limits>`_, passing errors='ignore'\n",
      "    will return the original input instead of raising any exception.\n",
      "    \n",
      "    Passing errors='coerce' will force an out-of-bounds date to NaT,\n",
      "    in addition to forcing non-dates (or non-parseable dates) to NaT.\n",
      "    \n",
      "    >>> pd.to_datetime('13000101', format='%Y%m%d', errors='ignore')\n",
      "    datetime.datetime(1300, 1, 1, 0, 0)\n",
      "    >>> pd.to_datetime('13000101', format='%Y%m%d', errors='coerce')\n",
      "    NaT\n",
      "    \n",
      "    Passing infer_datetime_format=True can often-times speedup a parsing\n",
      "    if its not an ISO8601 format exactly, but in a regular format.\n",
      "    \n",
      "    >>> s = pd.Series(['3/11/2000', '3/12/2000', '3/13/2000'] * 1000)\n",
      "    >>> s.head()\n",
      "    0    3/11/2000\n",
      "    1    3/12/2000\n",
      "    2    3/13/2000\n",
      "    3    3/11/2000\n",
      "    4    3/12/2000\n",
      "    dtype: object\n",
      "    \n",
      "    >>> %timeit pd.to_datetime(s, infer_datetime_format=True)  # doctest: +SKIP\n",
      "    100 loops, best of 3: 10.4 ms per loop\n",
      "    \n",
      "    >>> %timeit pd.to_datetime(s, infer_datetime_format=False)  # doctest: +SKIP\n",
      "    1 loop, best of 3: 471 ms per loop\n",
      "    \n",
      "    Using a unix epoch time\n",
      "    \n",
      "    >>> pd.to_datetime(1490195805, unit='s')\n",
      "    Timestamp('2017-03-22 15:16:45')\n",
      "    >>> pd.to_datetime(1490195805433502912, unit='ns')\n",
      "    Timestamp('2017-03-22 15:16:45.433502912')\n",
      "    \n",
      "    .. warning:: For float arg, precision rounding might happen. To prevent\n",
      "        unexpected behavior use a fixed-width exact type.\n",
      "    \n",
      "    Using a non-unix epoch origin\n",
      "    \n",
      "    >>> pd.to_datetime([1, 2, 3], unit='D',\n",
      "    ...                origin=pd.Timestamp('1960-01-01'))\n",
      "    DatetimeIndex(['1960-01-02', '1960-01-03', '1960-01-04'], dtype='datetime64[ns]', freq=None)\n",
      "\n"
     ]
    }
   ],
   "source": [
    "help(pd.to_datetime)"
   ]
  },
  {
   "cell_type": "markdown",
   "metadata": {},
   "source": [
    "## Exploring Time Series Data\n",
    "\n",
    "- Size"
   ]
  },
  {
   "cell_type": "code",
   "execution_count": 11,
   "metadata": {},
   "outputs": [
    {
     "data": {
      "text/plain": [
       "(121,)"
      ]
     },
     "execution_count": 11,
     "metadata": {},
     "output_type": "execute_result"
    }
   ],
   "source": [
    "ds.shape"
   ]
  },
  {
   "cell_type": "code",
   "execution_count": 12,
   "metadata": {},
   "outputs": [
    {
     "data": {
      "text/plain": [
       "(121, 1)"
      ]
     },
     "execution_count": 12,
     "metadata": {},
     "output_type": "execute_result"
    }
   ],
   "source": [
    "df.shape"
   ]
  },
  {
   "cell_type": "markdown",
   "metadata": {},
   "source": [
    "### Querying by time"
   ]
  },
  {
   "cell_type": "code",
   "execution_count": 14,
   "metadata": {},
   "outputs": [
    {
     "name": "stdout",
     "output_type": "stream",
     "text": [
      "DATE\n",
      "2019-11-01    16.0\n",
      "2019-11-02    21.0\n",
      "2019-11-03    17.0\n",
      "2019-11-04    12.0\n",
      "2019-11-05    26.0\n",
      "2019-11-06    24.0\n",
      "2019-11-07    25.0\n",
      "2019-11-08    25.0\n",
      "2019-11-09     0.0\n",
      "2019-11-10    26.0\n",
      "2019-11-11    20.0\n",
      "2019-11-12    27.0\n",
      "2019-11-13    29.0\n",
      "2019-11-14    27.0\n",
      "2019-11-15    29.0\n",
      "2019-11-16    31.0\n",
      "2019-11-17    25.0\n",
      "2019-11-18    26.7\n",
      "2019-11-19    15.0\n",
      "2019-11-20    18.0\n",
      "2019-11-21    23.0\n",
      "2019-11-22    29.0\n",
      "2019-11-23    24.0\n",
      "2019-11-24    17.0\n",
      "2019-11-25    25.0\n",
      "2019-11-26    35.0\n",
      "2019-11-27    25.0\n",
      "2019-11-28    27.0\n",
      "2019-11-29    25.5\n",
      "2019-11-30    17.5\n",
      "Name: H1, dtype: float64\n"
     ]
    }
   ],
   "source": [
    "print(ds['2019-11'])"
   ]
  },
  {
   "cell_type": "code",
   "execution_count": 24,
   "metadata": {
    "scrolled": true
   },
   "outputs": [
    {
     "data": {
      "text/html": [
       "<div>\n",
       "<style scoped>\n",
       "    .dataframe tbody tr th:only-of-type {\n",
       "        vertical-align: middle;\n",
       "    }\n",
       "\n",
       "    .dataframe tbody tr th {\n",
       "        vertical-align: top;\n",
       "    }\n",
       "\n",
       "    .dataframe thead th {\n",
       "        text-align: right;\n",
       "    }\n",
       "</style>\n",
       "<table border=\"1\" class=\"dataframe\">\n",
       "  <thead>\n",
       "    <tr style=\"text-align: right;\">\n",
       "      <th></th>\n",
       "      <th>DATE</th>\n",
       "      <th>H1</th>\n",
       "    </tr>\n",
       "  </thead>\n",
       "  <tbody>\n",
       "    <tr>\n",
       "      <th>15</th>\n",
       "      <td>2019-11-16</td>\n",
       "      <td>31.0</td>\n",
       "    </tr>\n",
       "    <tr>\n",
       "      <th>16</th>\n",
       "      <td>2019-11-17</td>\n",
       "      <td>25.0</td>\n",
       "    </tr>\n",
       "    <tr>\n",
       "      <th>17</th>\n",
       "      <td>2019-11-18</td>\n",
       "      <td>26.7</td>\n",
       "    </tr>\n",
       "    <tr>\n",
       "      <th>18</th>\n",
       "      <td>2019-11-19</td>\n",
       "      <td>15.0</td>\n",
       "    </tr>\n",
       "    <tr>\n",
       "      <th>19</th>\n",
       "      <td>2019-11-20</td>\n",
       "      <td>18.0</td>\n",
       "    </tr>\n",
       "    <tr>\n",
       "      <th>...</th>\n",
       "      <td>...</td>\n",
       "      <td>...</td>\n",
       "    </tr>\n",
       "    <tr>\n",
       "      <th>88</th>\n",
       "      <td>2020-01-28</td>\n",
       "      <td>26.0</td>\n",
       "    </tr>\n",
       "    <tr>\n",
       "      <th>89</th>\n",
       "      <td>2020-01-29</td>\n",
       "      <td>31.0</td>\n",
       "    </tr>\n",
       "    <tr>\n",
       "      <th>90</th>\n",
       "      <td>2020-01-30</td>\n",
       "      <td>22.6</td>\n",
       "    </tr>\n",
       "    <tr>\n",
       "      <th>91</th>\n",
       "      <td>2020-01-31</td>\n",
       "      <td>27.0</td>\n",
       "    </tr>\n",
       "    <tr>\n",
       "      <th>92</th>\n",
       "      <td>2020-02-01</td>\n",
       "      <td>27.0</td>\n",
       "    </tr>\n",
       "  </tbody>\n",
       "</table>\n",
       "<p>78 rows × 2 columns</p>\n",
       "</div>"
      ],
      "text/plain": [
       "         DATE    H1\n",
       "15 2019-11-16  31.0\n",
       "16 2019-11-17  25.0\n",
       "17 2019-11-18  26.7\n",
       "18 2019-11-19  15.0\n",
       "19 2019-11-20  18.0\n",
       "..        ...   ...\n",
       "88 2020-01-28  26.0\n",
       "89 2020-01-29  31.0\n",
       "90 2020-01-30  22.6\n",
       "91 2020-01-31  27.0\n",
       "92 2020-02-01  27.0\n",
       "\n",
       "[78 rows x 2 columns]"
      ]
     },
     "execution_count": 24,
     "metadata": {},
     "output_type": "execute_result"
    }
   ],
   "source": [
    "df[(df['DATE'] > '2019-11-15') & (df['DATE'] <= '2020-02-01')]"
   ]
  },
  {
   "cell_type": "markdown",
   "metadata": {},
   "source": [
    "## Descriptive Statistics"
   ]
  },
  {
   "cell_type": "code",
   "execution_count": 26,
   "metadata": {},
   "outputs": [
    {
     "data": {
      "text/plain": [
       "count    121.000000\n",
       "mean      23.019835\n",
       "std        7.118481\n",
       "min        0.000000\n",
       "25%       19.000000\n",
       "50%       24.000000\n",
       "75%       27.000000\n",
       "max       36.000000\n",
       "Name: H1, dtype: float64"
      ]
     },
     "execution_count": 26,
     "metadata": {},
     "output_type": "execute_result"
    }
   ],
   "source": [
    "ds.describe()"
   ]
  },
  {
   "cell_type": "code",
   "execution_count": 27,
   "metadata": {},
   "outputs": [
    {
     "data": {
      "text/html": [
       "<div>\n",
       "<style scoped>\n",
       "    .dataframe tbody tr th:only-of-type {\n",
       "        vertical-align: middle;\n",
       "    }\n",
       "\n",
       "    .dataframe tbody tr th {\n",
       "        vertical-align: top;\n",
       "    }\n",
       "\n",
       "    .dataframe thead th {\n",
       "        text-align: right;\n",
       "    }\n",
       "</style>\n",
       "<table border=\"1\" class=\"dataframe\">\n",
       "  <thead>\n",
       "    <tr style=\"text-align: right;\">\n",
       "      <th></th>\n",
       "      <th>H1</th>\n",
       "    </tr>\n",
       "  </thead>\n",
       "  <tbody>\n",
       "    <tr>\n",
       "      <th>count</th>\n",
       "      <td>121.000000</td>\n",
       "    </tr>\n",
       "    <tr>\n",
       "      <th>mean</th>\n",
       "      <td>23.019835</td>\n",
       "    </tr>\n",
       "    <tr>\n",
       "      <th>std</th>\n",
       "      <td>7.118481</td>\n",
       "    </tr>\n",
       "    <tr>\n",
       "      <th>min</th>\n",
       "      <td>0.000000</td>\n",
       "    </tr>\n",
       "    <tr>\n",
       "      <th>25%</th>\n",
       "      <td>19.000000</td>\n",
       "    </tr>\n",
       "    <tr>\n",
       "      <th>50%</th>\n",
       "      <td>24.000000</td>\n",
       "    </tr>\n",
       "    <tr>\n",
       "      <th>75%</th>\n",
       "      <td>27.000000</td>\n",
       "    </tr>\n",
       "    <tr>\n",
       "      <th>max</th>\n",
       "      <td>36.000000</td>\n",
       "    </tr>\n",
       "  </tbody>\n",
       "</table>\n",
       "</div>"
      ],
      "text/plain": [
       "               H1\n",
       "count  121.000000\n",
       "mean    23.019835\n",
       "std      7.118481\n",
       "min      0.000000\n",
       "25%     19.000000\n",
       "50%     24.000000\n",
       "75%     27.000000\n",
       "max     36.000000"
      ]
     },
     "execution_count": 27,
     "metadata": {},
     "output_type": "execute_result"
    }
   ],
   "source": [
    "df.describe()"
   ]
  },
  {
   "cell_type": "code",
   "execution_count": null,
   "metadata": {},
   "outputs": [],
   "source": []
  }
 ],
 "metadata": {
  "kernelspec": {
   "display_name": "Python 3",
   "language": "python",
   "name": "python3"
  },
  "language_info": {
   "codemirror_mode": {
    "name": "ipython",
    "version": 3
   },
   "file_extension": ".py",
   "mimetype": "text/x-python",
   "name": "python",
   "nbconvert_exporter": "python",
   "pygments_lexer": "ipython3",
   "version": "3.7.6"
  }
 },
 "nbformat": 4,
 "nbformat_minor": 4
}
